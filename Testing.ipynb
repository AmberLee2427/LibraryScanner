{
 "cells": [
  {
   "cell_type": "markdown",
   "metadata": {},
   "source": [
    "# Testing Notebook"
   ]
  },
  {
   "cell_type": "markdown",
   "metadata": {},
   "source": [
    "I am going to run some functionality tests for componants of the final programme."
   ]
  },
  {
   "cell_type": "markdown",
   "metadata": {},
   "source": [
    "## Fetch Book Info. from ISBN"
   ]
  },
  {
   "cell_type": "markdown",
   "metadata": {},
   "source": [
    "Creating a class that initializes with an ISBN and creates a Book object with details for the Library GUI."
   ]
  },
  {
   "cell_type": "markdown",
   "metadata": {},
   "source": [
    "LibraryThing API key ( I didn't end up using this):\n",
    "\n",
    "Token Name: LibraryScanner\n",
    "\n",
    "Token: 02b372f198a5ec0ee4e0dab3f2dc99f2"
   ]
  },
  {
   "cell_type": "code",
   "execution_count": 15,
   "metadata": {},
   "outputs": [
    {
     "name": "stdout",
     "output_type": "stream",
     "text": [
      "Title: Things I Want My Daughters to Know\n",
      "Author: Elizabeth Noble\n",
      "Published Date: 2008-09-04\n",
      "Cover Image URL: http://books.google.com/books/content?id=e7iqjRF-dygC&printsec=frontcover&img=1&zoom=1&source=gbs_api&fife=w600\n"
     ]
    }
   ],
   "source": [
    "import requests\n",
    "\n",
    "class Book:\n",
    "    def __init__(self, isbn):\n",
    "        self.isbn = isbn\n",
    "        self.title = None\n",
    "        self.author = None\n",
    "        self.published_date = None\n",
    "        self.cover_image_url = None\n",
    "\n",
    "    def get_data(self):\n",
    "        ''' Uses the 'isbn' class variable to query the Google Books catalogue'''\n",
    "        api_url = f'https://www.googleapis.com/books/v1/volumes?q=isbn:{self.isbn}'\n",
    "\n",
    "        try:\n",
    "            response = requests.get(api_url)\n",
    "            response.raise_for_status()\n",
    "            data = response.json()\n",
    "\n",
    "            # Extract relevant information from the API response\n",
    "            if 'items' in data and data['items']:\n",
    "                book_info = data['items'][0]['volumeInfo']\n",
    "                self.title = book_info.get('title', 'N/A')\n",
    "                self.author = ', '.join(book_info.get('authors', ['N/A']))\n",
    "                self.published_date = book_info.get('publishedDate', 'N/A')\n",
    "\n",
    "                # Choose the largest available cover image size\n",
    "                # https://stackoverflow.com/questions/10721886/how-to-get-the-extra-large-cover-image-from-google-book-api\n",
    "                image_links = book_info.get('imageLinks', {})\n",
    "                sizes = ['extraLarge', 'large', 'medium', 'small', 'thumbnail', 'smallThumbnail']\n",
    "                finding_biggest = True\n",
    "                i = 0\n",
    "                while finding_biggest:\n",
    "                    size = sizes[i]\n",
    "                    if size in image_links:\n",
    "                        self.cover_image_url = image_links[size]\n",
    "                        # The api will just give you the biggest image it has up to the number you set. \n",
    "                        # You can also set the height if you need to using e.g., '&fife=h900' \n",
    "                        # and both with e.g., '&fife=w800-h900'\n",
    "                        self.cover_image_url = self.cover_image_url +'&fife=w600'\n",
    "                        finding_biggest = False\n",
    "                    i += 1\n",
    "                    if i > len(sizes):  # cover image not found\n",
    "                        self.cover_image_url = None\n",
    "                        finding_biggest = False\n",
    "\n",
    "        except requests.exceptions.RequestException as e:\n",
    "            print(f\"Error retrieving data from Google Books API: {e}\")\n",
    "\n",
    "    def display_info(self):\n",
    "        print(f\"Title: {self.title}\")\n",
    "        print(f\"Author: {self.author}\")\n",
    "        print(f\"Published Date: {self.published_date}\")\n",
    "        print(f\"Cover Image URL: {self.cover_image_url}\")\n",
    "\n",
    "# Example usage:\n",
    "isbn_to_query = '9780141030012'\n",
    "book_instance = Book(isbn_to_query)\n",
    "book_instance.get_data()\n",
    "book_instance.display_info()\n",
    "\n"
   ]
  },
  {
   "cell_type": "markdown",
   "metadata": {},
   "source": [
    "## Get ISBN from Barcode"
   ]
  },
  {
   "cell_type": "markdown",
   "metadata": {},
   "source": []
  },
  {
   "cell_type": "markdown",
   "metadata": {},
   "source": [
    "## File Architecture"
   ]
  },
  {
   "cell_type": "markdown",
   "metadata": {},
   "source": []
  },
  {
   "cell_type": "markdown",
   "metadata": {},
   "source": [
    "## GUI"
   ]
  },
  {
   "cell_type": "markdown",
   "metadata": {},
   "source": []
  },
  {
   "cell_type": "markdown",
   "metadata": {},
   "source": []
  }
 ],
 "metadata": {
  "kernelspec": {
   "display_name": "base",
   "language": "python",
   "name": "python3"
  },
  "language_info": {
   "codemirror_mode": {
    "name": "ipython",
    "version": 3
   },
   "file_extension": ".py",
   "mimetype": "text/x-python",
   "name": "python",
   "nbconvert_exporter": "python",
   "pygments_lexer": "ipython3",
   "version": "3.11.5"
  }
 },
 "nbformat": 4,
 "nbformat_minor": 2
}
