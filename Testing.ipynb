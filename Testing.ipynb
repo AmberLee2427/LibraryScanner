{
 "cells": [
  {
   "cell_type": "markdown",
   "metadata": {},
   "source": [
    "# Testing Notebook"
   ]
  },
  {
   "cell_type": "markdown",
   "metadata": {},
   "source": [
    "I am going to run some functionality tests for componants of the final programme."
   ]
  },
  {
   "cell_type": "markdown",
   "metadata": {},
   "source": [
    "## Fetch Book Info. from ISBN"
   ]
  },
  {
   "cell_type": "markdown",
   "metadata": {},
   "source": [
    "Creating a class that initializes with an ISBN and creates a Book object with details for the Library GUI."
   ]
  },
  {
   "cell_type": "markdown",
   "metadata": {},
   "source": [
    "LibraryThing API key ( I didn't end up using this):\n",
    "\n",
    "Token Name: LibraryScanner\n",
    "\n",
    "Token: 02b372f198a5ec0ee4e0dab3f2dc99f2"
   ]
  },
  {
   "cell_type": "code",
   "execution_count": 11,
   "metadata": {},
   "outputs": [],
   "source": [
    "import requests\n",
    "from IPython.display import display, Image\n",
    "\n",
    "class Book:\n",
    "    def __init__(self, isbn, title=None, author=None, published=None, cover=None):\n",
    "        self.isbn = isbn\n",
    "        self.title = title\n",
    "        self.author = author\n",
    "        self.published_date = published\n",
    "        self.cover_image_url = cover\n",
    "\n",
    "    def get_data(self):\n",
    "        ''' Uses the 'isbn' class variable to query the Google Books catalogue\n",
    "\n",
    "        DEPENDENCIES\n",
    "        -------------\n",
    "        requests\n",
    "        IPython.display (for notebook)\n",
    "\n",
    "        NOTES\n",
    "        ------\n",
    "        Google Books API documentation:\n",
    "        https://developers.google.com/books/docs/v1/using\n",
    "\n",
    "        When trying decide which credentials to create for Google Cloud JSON API\n",
    "        (https://console.cloud.google.com/apis/credentials?project=pythonlibraryscanner), \n",
    "        the recommendation is:\n",
    "            This API doesn't require that you create credentials. \n",
    "            You're already good to go!\n",
    "        '''\n",
    "        api_url = f'https://www.googleapis.com/books/v1/volumes?q=isbn:{self.isbn}'\n",
    "\n",
    "        try:\n",
    "            response = requests.get(api_url)\n",
    "            response.raise_for_status()\n",
    "            data = response.json()\n",
    "\n",
    "            # Extract relevant information from the API response\n",
    "            if 'items' in data and data['items']:\n",
    "                book_info = data['items'][0]['volumeInfo']\n",
    "                self.title = book_info.get('title', 'N/A')\n",
    "                self.author = ', '.join(book_info.get('authors', ['N/A']))\n",
    "                self.published_date = book_info.get('publishedDate', 'N/A')\n",
    "\n",
    "                # Choose the largest available cover image size\n",
    "                # https://stackoverflow.com/questions/10721886/how-to-get-the-extra-large-cover-image-from-google-book-api\n",
    "                image_links = book_info.get('imageLinks', {})\n",
    "                sizes = ['extraLarge', 'large', 'medium', 'small', 'thumbnail', 'smallThumbnail']\n",
    "                finding_biggest = True\n",
    "                i = 0\n",
    "                while finding_biggest:\n",
    "                    size = sizes[i]\n",
    "                    if size in image_links:\n",
    "                        self.cover_image_url = image_links[size]\n",
    "                        # The api will just give you the biggest image it has up to the number you set. \n",
    "                        # You can also set the height if you need to using e.g., '&fife=h900' \n",
    "                        # and both with e.g., '&fife=w800-h900'\n",
    "                        self.cover_image_url = self.cover_image_url +'&fife=w600'\n",
    "                        finding_biggest = False\n",
    "                    i += 1\n",
    "                    if i > len(sizes):  # cover image not found\n",
    "                        self.cover_image_url = None\n",
    "                        finding_biggest = False\n",
    "\n",
    "        except requests.exceptions.RequestException as e:\n",
    "            print(f\"Error retrieving data from Google Books API: {e}\")\n",
    "\n",
    "    def display_info(self):\n",
    "        print(f\"Title: {self.title}\")\n",
    "        print(f\"Author: {self.author}\")\n",
    "        print(f\"Published Date: {self.published_date}\")\n",
    "\n",
    "        if self.cover_image_url is not None:\n",
    "            display(Image(url=self.cover_image_url, width=200))\n",
    "        print(f\"Cover Image URL: {self.cover_image_url}\")\n",
    "\n",
    "\n",
    "\n"
   ]
  },
  {
   "cell_type": "code",
   "execution_count": 2,
   "metadata": {},
   "outputs": [
    {
     "name": "stdout",
     "output_type": "stream",
     "text": [
      "Title: Things I Want My Daughters to Know\n",
      "Author: Elizabeth Noble\n",
      "Published Date: 2008-09-04\n"
     ]
    },
    {
     "data": {
      "text/html": [
       "<img src=\"http://books.google.com/books/content?id=e7iqjRF-dygC&printsec=frontcover&img=1&zoom=1&source=gbs_api&fife=w600\" width=\"200\"/>"
      ],
      "text/plain": [
       "<IPython.core.display.Image object>"
      ]
     },
     "metadata": {},
     "output_type": "display_data"
    },
    {
     "name": "stdout",
     "output_type": "stream",
     "text": [
      "Cover Image URL: http://books.google.com/books/content?id=e7iqjRF-dygC&printsec=frontcover&img=1&zoom=1&source=gbs_api&fife=w600\n"
     ]
    }
   ],
   "source": [
    "# Example usage:\n",
    "isbn_to_query = '9780141030012'\n",
    "book_instance = Book(isbn_to_query)\n",
    "book_instance.get_data()\n",
    "book_instance.display_info()"
   ]
  },
  {
   "cell_type": "markdown",
   "metadata": {},
   "source": [
    "## Get ISBN from Barcode"
   ]
  },
  {
   "cell_type": "markdown",
   "metadata": {},
   "source": []
  },
  {
   "cell_type": "markdown",
   "metadata": {},
   "source": [
    "## File Architecture"
   ]
  },
  {
   "cell_type": "markdown",
   "metadata": {},
   "source": []
  },
  {
   "cell_type": "code",
   "execution_count": 15,
   "metadata": {},
   "outputs": [],
   "source": [
    "import csv\n",
    "import os\n",
    "\n",
    "class Library:\n",
    "    def __init__(self, library_file=None):\n",
    "        \n",
    "        if library_file is None:\n",
    "            library_file = 'library.csv'\n",
    "        self.library_file = library_file\n",
    "\n",
    "        self.books = {}  # empty shelves\n",
    "        self.header = ['isbn', 'title', 'author', 'published', 'cover']  # the basic header\n",
    "\n",
    "        if not os.path.exists(library_file):\n",
    "            # Create an empty CSV file\n",
    "            with open(library_file, 'w', newline=''):\n",
    "                pass\n",
    "        self.load_books(library_file)\n",
    "\n",
    "    def load_books(self,library_file=None):\n",
    "        ''' can be used to merge multiple library_files'''\n",
    "        if library_file is None:\n",
    "             library_file = self.library_file\n",
    "\n",
    "        with open(library_file, 'r', newline='') as file:\n",
    "            reader = csv.DictReader(file) \n",
    "            for row in reader:\n",
    "                self.books[row['isbn']] = Book(row['isbn'], title=row['title'], author=row['author']\\\n",
    "                                               , published=row['published'], cover=row['cover'])\n",
    "            \n",
    "            #new_header = row.keys()\n",
    "            # will need to resolve header merging when extra columns are optionally added\n",
    "            \n",
    "            # will need to tack on extra column options when added.\n",
    "\n",
    "    def save_library(self, save_as=False):\n",
    "        ''' overwrites the library csv file (self.library_file; default='Library.csv')\n",
    "\n",
    "        DEPENDENCIES\n",
    "        -------------\n",
    "        csv\n",
    "        '''\n",
    "\n",
    "        if save_as:  # True for strings\n",
    "             file_path = save_as\n",
    "        else:\n",
    "             file_path = self.library_file\n",
    "        with open(file_path, 'w', newline='') as file:\n",
    "                    writer = csv.DictWriter(file, fieldnames=self.header)\n",
    "                    writer.writeheader()\n",
    "                    for book in self.books:\n",
    "                        print(book)\n",
    "                        #writer.writerow(book)\n",
    "\n",
    "    def add_book(self, isbn, save=True):\n",
    "        book_object = Book(isbn)\n",
    "        book_object.get_data()\n",
    "        \n",
    "        self.books[isbn] = (book_object.isbn, book_object.title, book_object.author\\\n",
    "                            , book_object.published_date, book_object.cover_image_url)\n",
    "        \n",
    "        if save:\n",
    "            self.save_library()\n",
    "\n",
    "    def add_books(self,isbn_book_list):\n",
    "        ''' adds all the books in the provided list to the library file. \n",
    "         Saves once at the end of the process\n",
    "\n",
    "         INPUT\n",
    "         ------\n",
    "         isbn_book_list:    type: list\n",
    "                            subtype: string (10 or 13 digit real, whole numbers)\n",
    "                            contains: a list of ISBN numbers as strings\n",
    "        '''\n",
    "\n",
    "        for book_isbn in isbn_book_list:\n",
    "            self.add_book(book_isbn, save=False)\n",
    "        self.save_library()"
   ]
  },
  {
   "cell_type": "code",
   "execution_count": 16,
   "metadata": {},
   "outputs": [
    {
     "name": "stdout",
     "output_type": "stream",
     "text": [
      "9780141030012\n"
     ]
    }
   ],
   "source": [
    "# Example usage:\n",
    "isbn_to_query = '9780141030012'\n",
    "new_library = Library()\n",
    "new_library.add_book(isbn_to_query)\n"
   ]
  },
  {
   "cell_type": "markdown",
   "metadata": {},
   "source": [
    "## GUI"
   ]
  },
  {
   "cell_type": "markdown",
   "metadata": {},
   "source": []
  },
  {
   "cell_type": "markdown",
   "metadata": {},
   "source": []
  },
  {
   "cell_type": "code",
   "execution_count": 23,
   "metadata": {},
   "outputs": [
    {
     "data": {
      "application/vnd.jupyter.widget-view+json": {
       "model_id": "3aac1705e46948aeb65bce53ae875158",
       "version_major": 2,
       "version_minor": 0
      },
      "text/plain": [
       "VBox(children=(Select(description='Books:', layout=Layout(height='200px'), options=(), value=None), HBox(child…"
      ]
     },
     "metadata": {},
     "output_type": "display_data"
    },
    {
     "name": "stdout",
     "output_type": "stream",
     "text": [
      "Enter ISBN: "
     ]
    }
   ],
   "source": [
    "import ipywidgets as widgets\n",
    "\n",
    "class GalleryGUI:\n",
    "    def __init__(self):\n",
    "        self.books = []  # List to store Book objects\n",
    "        self.list_widget = widgets.Select(options=[], description=\"Books:\", layout={'height': '200px'})\n",
    "        self.add_button = widgets.Button(description=\"Add Book\")\n",
    "        self.remove_button = widgets.Button(description=\"Remove Book\")\n",
    "        self.output_text = widgets.Output()\n",
    "\n",
    "        # Register the event handlers for the buttons\n",
    "        self.add_button.on_click(self.add_book)\n",
    "        self.remove_button.on_click(self.remove_book)\n",
    "\n",
    "        # Display the widgets\n",
    "        display(widgets.VBox([self.list_widget,\n",
    "                              widgets.HBox([self.add_button, self.remove_button]),\n",
    "                              self.output_text]))\n",
    "\n",
    "    def add_book(self, _):\n",
    "        isbn = input(\"Enter ISBN: \")  # You can replace this with an input widget if needed\n",
    "        book_instance = Book(isbn)\n",
    "        book_instance.get_data()\n",
    "        self.books.append(book_instance)\n",
    "        self.update_list_widget()\n",
    "\n",
    "    def remove_book(self, _):\n",
    "        if self.list_widget.index >= 0 and self.list_widget.index < len(self.books):\n",
    "            del self.books[self.list_widget.index]\n",
    "            self.update_list_widget()\n",
    "\n",
    "    def update_list_widget(self):\n",
    "        self.list_widget.options = [f\"{book.title} ({book.isbn})\" for book in self.books]\n",
    "\n",
    "# Example usage:\n",
    "gallery_gui = GalleryGUI()"
   ]
  },
  {
   "cell_type": "code",
   "execution_count": null,
   "metadata": {},
   "outputs": [],
   "source": []
  }
 ],
 "metadata": {
  "kernelspec": {
   "display_name": "base",
   "language": "python",
   "name": "python3"
  },
  "language_info": {
   "codemirror_mode": {
    "name": "ipython",
    "version": 3
   },
   "file_extension": ".py",
   "mimetype": "text/x-python",
   "name": "python",
   "nbconvert_exporter": "python",
   "pygments_lexer": "ipython3",
   "version": "3.11.5"
  }
 },
 "nbformat": 4,
 "nbformat_minor": 2
}
